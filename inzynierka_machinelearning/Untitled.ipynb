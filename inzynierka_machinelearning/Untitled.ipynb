{
 "cells": [
  {
   "cell_type": "code",
   "execution_count": 1,
   "metadata": {},
   "outputs": [],
   "source": [
    "import pandas as pd\n",
    "import numpy as np\n",
    "import os"
   ]
  },
  {
   "cell_type": "code",
   "execution_count": 14,
   "metadata": {},
   "outputs": [],
   "source": [
    "list_of_data = []\n",
    "with open('6_fragment.txt', 'r') as file:\n",
    "    for line in file:\n",
    "        list_of_data.append(line.split())\n",
    "        "
   ]
  },
  {
   "cell_type": "code",
   "execution_count": 19,
   "metadata": {},
   "outputs": [],
   "source": [
    "dataframe = pd.DataFrame(list_of_data, columns= ['x', 'y', 'z'], dtype=float)"
   ]
  },
  {
   "cell_type": "code",
   "execution_count": 20,
   "metadata": {},
   "outputs": [],
   "source": [
    "data_for_cluster = dataframe.sort_values(by='z').iloc[:, :3].values"
   ]
  },
  {
   "cell_type": "code",
   "execution_count": 21,
   "metadata": {},
   "outputs": [],
   "source": [
    "from sklearn.cluster import DBSCAN"
   ]
  },
  {
   "cell_type": "code",
   "execution_count": 29,
   "metadata": {},
   "outputs": [],
   "source": [
    "db_scan = DBSCAN(eps=0.01)"
   ]
  },
  {
   "cell_type": "code",
   "execution_count": 30,
   "metadata": {},
   "outputs": [
    {
     "data": {
      "text/plain": [
       "DBSCAN(algorithm='auto', eps=0.01, leaf_size=30, metric='euclidean',\n",
       "    metric_params=None, min_samples=5, n_jobs=1, p=None)"
      ]
     },
     "execution_count": 30,
     "metadata": {},
     "output_type": "execute_result"
    }
   ],
   "source": [
    "db_scan.fit(data_for_cluster)"
   ]
  },
  {
   "cell_type": "code",
   "execution_count": 31,
   "metadata": {},
   "outputs": [],
   "source": [
    "predicted_values = db_scan.fit_predict(data_for_cluster)"
   ]
  },
  {
   "cell_type": "code",
   "execution_count": 32,
   "metadata": {},
   "outputs": [],
   "source": [
    "full_data_frame = np.concatenate([data_for_cluster, predicted_values.reshape(len(predicted_values), 1)], axis=1)"
   ]
  },
  {
   "cell_type": "code",
   "execution_count": 33,
   "metadata": {},
   "outputs": [],
   "source": [
    "if not os.path.exists('wyniki'):\n",
    "    os.makedirs('wyniki')\n",
    "pd.DataFrame(full_data_frame).to_csv('wyniki\\db_scan_standard_parameters.csv')"
   ]
  },
  {
   "cell_type": "code",
   "execution_count": null,
   "metadata": {},
   "outputs": [],
   "source": [
    "    "
   ]
  },
  {
   "cell_type": "code",
   "execution_count": 55,
   "metadata": {},
   "outputs": [],
   "source": [
    "from sklearn.cluster import DBSCAN\n",
    "dataframe = pd.read_csv('source_of_data/cleared.txt', chunksize=10000, delimiter=';', skiprows=1, header=None,\n",
    "                        names=['x', 'y', 'z'])"
   ]
  },
  {
   "cell_type": "code",
   "execution_count": 81,
   "metadata": {},
   "outputs": [],
   "source": [
    "db_scan = DBSCAN(eps=0.01)\n",
    "for index, frame in enumerate(dataframe):\n",
    "    if not os.path.exists('wyniki'):\n",
    "                os.makedirs('wyniki')\n",
    "    with open(\"wyniki\\db_scan_eps_{}.csv\".format(db_scan.eps),'a') as file:\n",
    "        if index < 1000:\n",
    "            print('chunk_{}'.format(index))\n",
    "            predicted = db_scan.fit_predict(frame.values).reshape(len(frame.values), 1)\n",
    "            data_to_export = np.concatenate([frame.values, predicted], axis=1).reshape(len(data_to_export), 4)\n",
    "            pd.DataFrame.to_csv(pd.DataFrame(data_to_export), path_or_buf=file, header=False)\n",
    "        else:\n",
    "            break"
   ]
  },
  {
   "cell_type": "markdown",
   "metadata": {},
   "source": [
    "## podejscie drugie"
   ]
  },
  {
   "cell_type": "code",
   "execution_count": 1,
   "metadata": {},
   "outputs": [],
   "source": [
    "# sorting huge dataframe\n",
    "import pandas as pd\n",
    "from sklearn.cluster import DBSCAN\n",
    "dataframe = pd.read_csv('source_of_data/cleared.txt', delimiter=';', skiprows=1, header=None,\n",
    "                        names=['x', 'y', 'z'])\n",
    "dataframe.sort_values(by='z', inplace=True)\n",
    "import numpy as np"
   ]
  },
  {
   "cell_type": "code",
   "execution_count": 3,
   "metadata": {},
   "outputs": [],
   "source": [
    "z_min = int(dataframe['z'].min()) - 1\n",
    "z_max = int(dataframe['z'].max()) + 1\n",
    "z_values = [z for z in range(z_min, z_max)]\n",
    "\n",
    "y_min = int(dataframe['y'].min()) - 1\n",
    "y_max = int(dataframe['y'].max()) + 1\n",
    "y_values = [y for y in range(y_min, y_max)]\n",
    "\n",
    "x_min = int(dataframe['x'].min()) - 1 \n",
    "x_max = int(dataframe['x'].max()) + 1\n",
    "x_values = [x for x in range(x_min, x_max)]"
   ]
  },
  {
   "cell_type": "code",
   "execution_count": 5,
   "metadata": {},
   "outputs": [],
   "source": [
    "db_scan = DBSCAN(eps=0.03, min_samples=5)\n",
    "for z_index, z_value in enumerate(z_values):\n",
    "    if z_index < 10:\n",
    "        print('z: {}'.format(z_index))\n",
    "        if z_index < len(z_values) - 1:\n",
    "            z_frame = dataframe[(dataframe['z']>=z_values[z_index]) & (dataframe['z'] < z_values[z_index+1])]\n",
    "            for x_index, x_value in enumerate(x_values):\n",
    "                if x_index < len(x_values) - 1:\n",
    "                    x_frame = z_frame[(z_frame['x']>=x_values[x_index]) & (z_frame['x'] < x_values[x_index+1])]\n",
    "                    for y_index, y_value in enumerate(y_values):\n",
    "                        if y_index < len(y_values) - 1:\n",
    "                            y_frame = x_frame[(x_frame['y']>=y_values[y_index]) & (x_frame['y'] < y_values[y_index+1])]\n",
    "                            if y_frame.shape[0]!=0:\n",
    "                                with open(\"wyniki\\db_scan_eps_{}_v1.csv\".format(db_scan.eps),'a') as file:\n",
    "                                    predicted = db_scan.fit_predict(y_frame.values).reshape(len(y_frame.values), 1)\n",
    "                                    data_to_export = np.concatenate([y_frame.values, predicted], axis=1).reshape(len(y_frame), 4)\n",
    "                                    pd.DataFrame.to_csv(pd.DataFrame(data_to_export), path_or_buf=file, header=False)                      \n",
    "    else:\n",
    "        pass"
   ]
  },
  {
   "cell_type": "code",
   "execution_count": null,
   "metadata": {},
   "outputs": [],
   "source": [
    "predicted = db_scan.fit_predict(dataframe.values)"
   ]
  },
  {
   "cell_type": "markdown",
   "metadata": {},
   "source": [
    "## hdbscan"
   ]
  },
  {
   "cell_type": "code",
   "execution_count": 1,
   "metadata": {},
   "outputs": [],
   "source": [
    "import hdbscan as hd"
   ]
  },
  {
   "cell_type": "code",
   "execution_count": 2,
   "metadata": {},
   "outputs": [],
   "source": [
    "classifier_hdbscan = hd.HDBSCAN()"
   ]
  },
  {
   "cell_type": "code",
   "execution_count": 7,
   "metadata": {},
   "outputs": [],
   "source": [
    "import pandas as pd\n",
    "dataframe = pd.read_csv('source_of_data/balkon1.txt', delimiter=' ', skiprows=1, header=None,\n",
    "                        names=['x', 'y', 'z'])\n",
    "dataframe.sort_values(by='z', inplace=True)\n",
    "import numpy as np\n"
   ]
  },
  {
   "cell_type": "code",
   "execution_count": 8,
   "metadata": {},
   "outputs": [],
   "source": [
    "z_min = int(dataframe['z'].min()) - 1\n",
    "z_max = int(dataframe['z'].max()) + 1\n",
    "z_values = [z_min, z_max]\n",
    "\n",
    "y_min = int(dataframe['y'].min()) - 1\n",
    "y_max = int(dataframe['y'].max()) + 1\n",
    "y_values = [y_min, y_max]\n",
    "\n",
    "x_min = int(dataframe['x'].min()) - 1 \n",
    "x_max = int(dataframe['x'].max()) + 1\n",
    "x_values = [x_min, x_max]"
   ]
  },
  {
   "cell_type": "code",
   "execution_count": 9,
   "metadata": {},
   "outputs": [
    {
     "name": "stdout",
     "output_type": "stream",
     "text": [
      "z: 0\n",
      "z: 1\n"
     ]
    }
   ],
   "source": [
    "hdb_scan = hd.HDBSCAN(min_cluster_size=100, min_samples=100, alpha=1.5)\n",
    "for z_index, z_value in enumerate(z_values):\n",
    "    if z_index < 10:\n",
    "        print('z: {}'.format(z_index))\n",
    "        if z_index < len(z_values) - 1:\n",
    "            z_frame = dataframe[(dataframe['z']>=z_values[z_index]) & (dataframe['z'] < z_values[z_index+1])]\n",
    "            for x_index, x_value in enumerate(x_values):\n",
    "                if x_index < len(x_values) - 1:\n",
    "                    x_frame = z_frame[(z_frame['x']>=x_values[x_index]) & (z_frame['x'] < x_values[x_index+1])]\n",
    "                    for y_index, y_value in enumerate(y_values):\n",
    "                        if y_index < len(y_values) - 1:\n",
    "                            y_frame = x_frame[(x_frame['y']>=y_values[y_index]) & (x_frame['y'] < y_values[y_index+1])]\n",
    "                            if y_frame.shape[0]!=0:\n",
    "                                with open(\"wyniki\\hdb_scan_eps_{}_balkon1.csv\".format(hdb_scan.alpha),'a') as file:\n",
    "                                    predicted = hdb_scan.fit_predict(y_frame.values).reshape(len(y_frame.values), 1)\n",
    "                                    data_to_export = np.concatenate([y_frame.values, predicted], axis=1).reshape(len(y_frame), 4)\n",
    "                                    pd.DataFrame.to_csv(pd.DataFrame(data_to_export), path_or_buf=file, header=False)                      \n",
    "    else:\n",
    "        pass"
   ]
  },
  {
   "cell_type": "code",
   "execution_count": 1,
   "metadata": {},
   "outputs": [],
   "source": [
    "# dataframe"
   ]
  },
  {
   "cell_type": "code",
   "execution_count": null,
   "metadata": {},
   "outputs": [],
   "source": []
  }
 ],
 "metadata": {
  "kernelspec": {
   "display_name": "Python 3",
   "language": "python",
   "name": "python3"
  },
  "language_info": {
   "codemirror_mode": {
    "name": "ipython",
    "version": 3
   },
   "file_extension": ".py",
   "mimetype": "text/x-python",
   "name": "python",
   "nbconvert_exporter": "python",
   "pygments_lexer": "ipython3",
   "version": "3.6.3"
  }
 },
 "nbformat": 4,
 "nbformat_minor": 2
}
