{
 "cells": [
  {
   "cell_type": "code",
   "execution_count": 1,
   "metadata": {},
   "outputs": [],
   "source": [
    "import pandas as pd\n",
    "import numpy as np\n",
    "import os"
   ]
  },
  {
   "cell_type": "code",
   "execution_count": 14,
   "metadata": {},
   "outputs": [],
   "source": [
    "list_of_data = []\n",
    "with open('6_fragment.txt', 'r') as file:\n",
    "    for line in file:\n",
    "        list_of_data.append(line.split())\n",
    "        "
   ]
  },
  {
   "cell_type": "code",
   "execution_count": 19,
   "metadata": {},
   "outputs": [],
   "source": [
    "dataframe = pd.DataFrame(list_of_data, columns= ['x', 'y', 'z'], dtype=float)"
   ]
  },
  {
   "cell_type": "code",
   "execution_count": 20,
   "metadata": {},
   "outputs": [],
   "source": [
    "data_for_cluster = dataframe.sort_values(by='z').iloc[:, :3].values"
   ]
  },
  {
   "cell_type": "code",
   "execution_count": 21,
   "metadata": {},
   "outputs": [],
   "source": [
    "from sklearn.cluster import DBSCAN"
   ]
  },
  {
   "cell_type": "code",
   "execution_count": 29,
   "metadata": {},
   "outputs": [],
   "source": [
    "db_scan = DBSCAN(eps=0.01)"
   ]
  },
  {
   "cell_type": "code",
   "execution_count": 30,
   "metadata": {},
   "outputs": [
    {
     "data": {
      "text/plain": [
       "DBSCAN(algorithm='auto', eps=0.01, leaf_size=30, metric='euclidean',\n",
       "    metric_params=None, min_samples=5, n_jobs=1, p=None)"
      ]
     },
     "execution_count": 30,
     "metadata": {},
     "output_type": "execute_result"
    }
   ],
   "source": [
    "db_scan.fit(data_for_cluster)"
   ]
  },
  {
   "cell_type": "code",
   "execution_count": 31,
   "metadata": {},
   "outputs": [],
   "source": [
    "predicted_values = db_scan.fit_predict(data_for_cluster)"
   ]
  },
  {
   "cell_type": "code",
   "execution_count": 32,
   "metadata": {},
   "outputs": [],
   "source": [
    "full_data_frame = np.concatenate([data_for_cluster, predicted_values.reshape(len(predicted_values), 1)], axis=1)"
   ]
  },
  {
   "cell_type": "code",
   "execution_count": 33,
   "metadata": {},
   "outputs": [],
   "source": [
    "if not os.path.exists('wyniki'):\n",
    "    os.makedirs('wyniki')\n",
    "pd.DataFrame(full_data_frame).to_csv('wyniki\\db_scan_standard_parameters.csv')"
   ]
  },
  {
   "cell_type": "code",
   "execution_count": null,
   "metadata": {},
   "outputs": [],
   "source": [
    "    "
   ]
  },
  {
   "cell_type": "code",
   "execution_count": 55,
   "metadata": {},
   "outputs": [],
   "source": [
    "from sklearn.cluster import DBSCAN\n",
    "dataframe = pd.read_csv('source_of_data/cleared.txt', chunksize=10000, delimiter=';', skiprows=1, header=None,\n",
    "                        names=['x', 'y', 'z'])"
   ]
  },
  {
   "cell_type": "code",
   "execution_count": 81,
   "metadata": {},
   "outputs": [],
   "source": [
    "db_scan = DBSCAN(eps=0.01)\n",
    "for index, frame in enumerate(dataframe):\n",
    "    if not os.path.exists('wyniki'):\n",
    "                os.makedirs('wyniki')\n",
    "    with open(\"wyniki\\db_scan_eps_{}.csv\".format(db_scan.eps),'a') as file:\n",
    "        if index < 1000:\n",
    "            print('chunk_{}'.format(index))\n",
    "            predicted = db_scan.fit_predict(frame.values).reshape(len(frame.values), 1)\n",
    "            data_to_export = np.concatenate([frame.values, predicted], axis=1).reshape(len(data_to_export), 4)\n",
    "            pd.DataFrame.to_csv(pd.DataFrame(data_to_export), path_or_buf=file, header=False)\n",
    "        else:\n",
    "            break"
   ]
  },
  {
   "cell_type": "markdown",
   "metadata": {},
   "source": [
    "## podejscie drugie"
   ]
  },
  {
   "cell_type": "code",
   "execution_count": 1,
   "metadata": {},
   "outputs": [],
   "source": [
    "# sorting huge dataframe\n",
    "import pandas as pd\n",
    "from sklearn.cluster import DBSCAN\n",
    "dataframe = pd.read_csv('source_of_data/cleared.txt', delimiter=';', skiprows=1, header=None,\n",
    "                        names=['x', 'y', 'z'])\n",
    "dataframe.sort_values(by='z', inplace=True)\n",
    "import numpy as np"
   ]
  },
  {
   "cell_type": "code",
   "execution_count": 3,
   "metadata": {},
   "outputs": [],
   "source": [
    "z_min = int(dataframe['z'].min()) - 1\n",
    "z_max = int(dataframe['z'].max()) + 1\n",
    "z_values = [z for z in range(z_min, z_max)]\n",
    "\n",
    "y_min = int(dataframe['y'].min()) - 1\n",
    "y_max = int(dataframe['y'].max()) + 1\n",
    "y_values = [y for y in range(y_min, y_max)]\n",
    "\n",
    "x_min = int(dataframe['x'].min()) - 1 \n",
    "x_max = int(dataframe['x'].max()) + 1\n",
    "x_values = [x for x in range(x_min, x_max)]"
   ]
  },
  {
   "cell_type": "code",
   "execution_count": 5,
   "metadata": {},
   "outputs": [],
   "source": [
    "db_scan = DBSCAN(eps=0.03, min_samples=5)\n",
    "for z_index, z_value in enumerate(z_values):\n",
    "    if z_index < 10:\n",
    "        print('z: {}'.format(z_index))\n",
    "        if z_index < len(z_values) - 1:\n",
    "            z_frame = dataframe[(dataframe['z']>=z_values[z_index]) & (dataframe['z'] < z_values[z_index+1])]\n",
    "            for x_index, x_value in enumerate(x_values):\n",
    "                if x_index < len(x_values) - 1:\n",
    "                    x_frame = z_frame[(z_frame['x']>=x_values[x_index]) & (z_frame['x'] < x_values[x_index+1])]\n",
    "                    for y_index, y_value in enumerate(y_values):\n",
    "                        if y_index < len(y_values) - 1:\n",
    "                            y_frame = x_frame[(x_frame['y']>=y_values[y_index]) & (x_frame['y'] < y_values[y_index+1])]\n",
    "                            if y_frame.shape[0]!=0:\n",
    "                                with open(\"wyniki\\db_scan_eps_{}_v1.csv\".format(db_scan.eps),'a') as file:\n",
    "                                    predicted = db_scan.fit_predict(y_frame.values).reshape(len(y_frame.values), 1)\n",
    "                                    data_to_export = np.concatenate([y_frame.values, predicted], axis=1).reshape(len(y_frame), 4)\n",
    "                                    pd.DataFrame.to_csv(pd.DataFrame(data_to_export), path_or_buf=file, header=False)                      \n",
    "    else:\n",
    "        pass"
   ]
  },
  {
   "cell_type": "code",
   "execution_count": null,
   "metadata": {},
   "outputs": [],
   "source": [
    "predicted = db_scan.fit_predict(dataframe.values)"
   ]
  },
  {
   "cell_type": "markdown",
   "metadata": {},
   "source": [
    "## hdbscan"
   ]
  },
  {
   "cell_type": "code",
   "execution_count": 1,
   "metadata": {},
   "outputs": [],
   "source": [
    "import hdbscan as hd"
   ]
  },
  {
   "cell_type": "code",
   "execution_count": 2,
   "metadata": {},
   "outputs": [],
   "source": [
    "classifier_hdbscan = hd.HDBSCAN()"
   ]
  },
  {
   "cell_type": "code",
   "execution_count": 3,
   "metadata": {},
   "outputs": [],
   "source": [
    "import pandas as pd\n",
    "dataframe = pd.read_csv('source_of_data/cleared.txt', delimiter=';', skiprows=1, header=None,\n",
    "                        names=['x', 'y', 'z'])\n",
    "dataframe.sort_values(by='z', inplace=True)\n",
    "import numpy as np\n"
   ]
  },
  {
   "cell_type": "code",
   "execution_count": 5,
   "metadata": {},
   "outputs": [],
   "source": [
    "z_min = int(dataframe['z'].min()) - 1\n",
    "z_max = int(dataframe['z'].max()) + 1\n",
    "z_values = [z for z in range(z_min, z_max, 2)]\n",
    "\n",
    "y_min = int(dataframe['y'].min()) - 1\n",
    "y_max = int(dataframe['y'].max()) + 1\n",
    "y_values = [y for y in range(y_min, y_max, 2)]\n",
    "\n",
    "x_min = int(dataframe['x'].min()) - 1 \n",
    "x_max = int(dataframe['x'].max()) + 1\n",
    "x_values = [x for x in range(x_min, x_max, 2)]"
   ]
  },
  {
   "cell_type": "code",
   "execution_count": 12,
   "metadata": {},
   "outputs": [
    {
     "name": "stdout",
     "output_type": "stream",
     "text": [
      "z: 0\n"
     ]
    },
    {
     "ename": "KeyboardInterrupt",
     "evalue": "",
     "output_type": "error",
     "traceback": [
      "\u001b[1;31m---------------------------------------------------------------------------\u001b[0m",
      "\u001b[1;31mKeyboardInterrupt\u001b[0m                         Traceback (most recent call last)",
      "\u001b[1;32m<ipython-input-12-1843ba2f3236>\u001b[0m in \u001b[0;36m<module>\u001b[1;34m()\u001b[0m\n\u001b[0;32m     13\u001b[0m                             \u001b[1;32mif\u001b[0m \u001b[0my_frame\u001b[0m\u001b[1;33m.\u001b[0m\u001b[0mshape\u001b[0m\u001b[1;33m[\u001b[0m\u001b[1;36m0\u001b[0m\u001b[1;33m]\u001b[0m\u001b[1;33m!=\u001b[0m\u001b[1;36m0\u001b[0m\u001b[1;33m:\u001b[0m\u001b[1;33m\u001b[0m\u001b[0m\n\u001b[0;32m     14\u001b[0m                                 \u001b[1;32mwith\u001b[0m \u001b[0mopen\u001b[0m\u001b[1;33m(\u001b[0m\u001b[1;34m\"wyniki\\hdb_scan_eps_{}_standard.csv\"\u001b[0m\u001b[1;33m.\u001b[0m\u001b[0mformat\u001b[0m\u001b[1;33m(\u001b[0m\u001b[0mhdb_scan\u001b[0m\u001b[1;33m.\u001b[0m\u001b[0malpha\u001b[0m\u001b[1;33m)\u001b[0m\u001b[1;33m,\u001b[0m\u001b[1;34m'a'\u001b[0m\u001b[1;33m)\u001b[0m \u001b[1;32mas\u001b[0m \u001b[0mfile\u001b[0m\u001b[1;33m:\u001b[0m\u001b[1;33m\u001b[0m\u001b[0m\n\u001b[1;32m---> 15\u001b[1;33m                                     \u001b[0mpredicted\u001b[0m \u001b[1;33m=\u001b[0m \u001b[0mhdb_scan\u001b[0m\u001b[1;33m.\u001b[0m\u001b[0mfit_predict\u001b[0m\u001b[1;33m(\u001b[0m\u001b[0my_frame\u001b[0m\u001b[1;33m.\u001b[0m\u001b[0mvalues\u001b[0m\u001b[1;33m)\u001b[0m\u001b[1;33m.\u001b[0m\u001b[0mreshape\u001b[0m\u001b[1;33m(\u001b[0m\u001b[0mlen\u001b[0m\u001b[1;33m(\u001b[0m\u001b[0my_frame\u001b[0m\u001b[1;33m.\u001b[0m\u001b[0mvalues\u001b[0m\u001b[1;33m)\u001b[0m\u001b[1;33m,\u001b[0m \u001b[1;36m1\u001b[0m\u001b[1;33m)\u001b[0m\u001b[1;33m\u001b[0m\u001b[0m\n\u001b[0m\u001b[0;32m     16\u001b[0m                                     \u001b[0mdata_to_export\u001b[0m \u001b[1;33m=\u001b[0m \u001b[0mnp\u001b[0m\u001b[1;33m.\u001b[0m\u001b[0mconcatenate\u001b[0m\u001b[1;33m(\u001b[0m\u001b[1;33m[\u001b[0m\u001b[0my_frame\u001b[0m\u001b[1;33m.\u001b[0m\u001b[0mvalues\u001b[0m\u001b[1;33m,\u001b[0m \u001b[0mpredicted\u001b[0m\u001b[1;33m]\u001b[0m\u001b[1;33m,\u001b[0m \u001b[0maxis\u001b[0m\u001b[1;33m=\u001b[0m\u001b[1;36m1\u001b[0m\u001b[1;33m)\u001b[0m\u001b[1;33m.\u001b[0m\u001b[0mreshape\u001b[0m\u001b[1;33m(\u001b[0m\u001b[0mlen\u001b[0m\u001b[1;33m(\u001b[0m\u001b[0my_frame\u001b[0m\u001b[1;33m)\u001b[0m\u001b[1;33m,\u001b[0m \u001b[1;36m4\u001b[0m\u001b[1;33m)\u001b[0m\u001b[1;33m\u001b[0m\u001b[0m\n\u001b[0;32m     17\u001b[0m                                     \u001b[0mpd\u001b[0m\u001b[1;33m.\u001b[0m\u001b[0mDataFrame\u001b[0m\u001b[1;33m.\u001b[0m\u001b[0mto_csv\u001b[0m\u001b[1;33m(\u001b[0m\u001b[0mpd\u001b[0m\u001b[1;33m.\u001b[0m\u001b[0mDataFrame\u001b[0m\u001b[1;33m(\u001b[0m\u001b[0mdata_to_export\u001b[0m\u001b[1;33m)\u001b[0m\u001b[1;33m,\u001b[0m \u001b[0mpath_or_buf\u001b[0m\u001b[1;33m=\u001b[0m\u001b[0mfile\u001b[0m\u001b[1;33m,\u001b[0m \u001b[0mheader\u001b[0m\u001b[1;33m=\u001b[0m\u001b[1;32mFalse\u001b[0m\u001b[1;33m)\u001b[0m\u001b[1;33m\u001b[0m\u001b[0m\n",
      "\u001b[1;32m~\\Anaconda3\\lib\\site-packages\\hdbscan\\hdbscan_.py\u001b[0m in \u001b[0;36mfit_predict\u001b[1;34m(self, X, y)\u001b[0m\n\u001b[0;32m    884\u001b[0m             \u001b[0mcluster\u001b[0m \u001b[0mlabels\u001b[0m\u001b[1;33m\u001b[0m\u001b[0m\n\u001b[0;32m    885\u001b[0m         \"\"\"\n\u001b[1;32m--> 886\u001b[1;33m         \u001b[0mself\u001b[0m\u001b[1;33m.\u001b[0m\u001b[0mfit\u001b[0m\u001b[1;33m(\u001b[0m\u001b[0mX\u001b[0m\u001b[1;33m)\u001b[0m\u001b[1;33m\u001b[0m\u001b[0m\n\u001b[0m\u001b[0;32m    887\u001b[0m         \u001b[1;32mreturn\u001b[0m \u001b[0mself\u001b[0m\u001b[1;33m.\u001b[0m\u001b[0mlabels_\u001b[0m\u001b[1;33m\u001b[0m\u001b[0m\n\u001b[0;32m    888\u001b[0m \u001b[1;33m\u001b[0m\u001b[0m\n",
      "\u001b[1;32m~\\Anaconda3\\lib\\site-packages\\hdbscan\\hdbscan_.py\u001b[0m in \u001b[0;36mfit\u001b[1;34m(self, X, y)\u001b[0m\n\u001b[0;32m    862\u001b[0m          \u001b[0mself\u001b[0m\u001b[1;33m.\u001b[0m\u001b[0m_condensed_tree\u001b[0m\u001b[1;33m,\u001b[0m\u001b[1;33m\u001b[0m\u001b[0m\n\u001b[0;32m    863\u001b[0m          \u001b[0mself\u001b[0m\u001b[1;33m.\u001b[0m\u001b[0m_single_linkage_tree\u001b[0m\u001b[1;33m,\u001b[0m\u001b[1;33m\u001b[0m\u001b[0m\n\u001b[1;32m--> 864\u001b[1;33m          self._min_spanning_tree) = hdbscan(X, **kwargs)\n\u001b[0m\u001b[0;32m    865\u001b[0m \u001b[1;33m\u001b[0m\u001b[0m\n\u001b[0;32m    866\u001b[0m         \u001b[1;32mif\u001b[0m \u001b[0mself\u001b[0m\u001b[1;33m.\u001b[0m\u001b[0mprediction_data\u001b[0m\u001b[1;33m:\u001b[0m\u001b[1;33m\u001b[0m\u001b[0m\n",
      "\u001b[1;32m~\\Anaconda3\\lib\\site-packages\\hdbscan\\hdbscan_.py\u001b[0m in \u001b[0;36mhdbscan\u001b[1;34m(X, min_cluster_size, min_samples, alpha, metric, p, leaf_size, algorithm, memory, approx_min_span_tree, gen_min_span_tree, core_dist_n_jobs, cluster_selection_method, allow_single_cluster, match_reference_implementation, **kwargs)\u001b[0m\n\u001b[0;32m    589\u001b[0m                                              \u001b[0mapprox_min_span_tree\u001b[0m\u001b[1;33m,\u001b[0m\u001b[1;33m\u001b[0m\u001b[0m\n\u001b[0;32m    590\u001b[0m                                              \u001b[0mgen_min_span_tree\u001b[0m\u001b[1;33m,\u001b[0m\u001b[1;33m\u001b[0m\u001b[0m\n\u001b[1;32m--> 591\u001b[1;33m                                              core_dist_n_jobs, **kwargs)\n\u001b[0m\u001b[0;32m    592\u001b[0m         \u001b[1;32melse\u001b[0m\u001b[1;33m:\u001b[0m  \u001b[1;31m# Metric is a valid BallTree metric\u001b[0m\u001b[1;33m\u001b[0m\u001b[0m\n\u001b[0;32m    593\u001b[0m             \u001b[1;31m# TO DO: Need heuristic to decide when to go to boruvka;\u001b[0m\u001b[1;33m\u001b[0m\u001b[1;33m\u001b[0m\u001b[0m\n",
      "\u001b[1;32m~\\Anaconda3\\lib\\site-packages\\sklearn\\externals\\joblib\\memory.py\u001b[0m in \u001b[0;36m__call__\u001b[1;34m(self, *args, **kwargs)\u001b[0m\n\u001b[0;32m    360\u001b[0m \u001b[1;33m\u001b[0m\u001b[0m\n\u001b[0;32m    361\u001b[0m     \u001b[1;32mdef\u001b[0m \u001b[0m__call__\u001b[0m\u001b[1;33m(\u001b[0m\u001b[0mself\u001b[0m\u001b[1;33m,\u001b[0m \u001b[1;33m*\u001b[0m\u001b[0margs\u001b[0m\u001b[1;33m,\u001b[0m \u001b[1;33m**\u001b[0m\u001b[0mkwargs\u001b[0m\u001b[1;33m)\u001b[0m\u001b[1;33m:\u001b[0m\u001b[1;33m\u001b[0m\u001b[0m\n\u001b[1;32m--> 362\u001b[1;33m         \u001b[1;32mreturn\u001b[0m \u001b[0mself\u001b[0m\u001b[1;33m.\u001b[0m\u001b[0mfunc\u001b[0m\u001b[1;33m(\u001b[0m\u001b[1;33m*\u001b[0m\u001b[0margs\u001b[0m\u001b[1;33m,\u001b[0m \u001b[1;33m**\u001b[0m\u001b[0mkwargs\u001b[0m\u001b[1;33m)\u001b[0m\u001b[1;33m\u001b[0m\u001b[0m\n\u001b[0m\u001b[0;32m    363\u001b[0m \u001b[1;33m\u001b[0m\u001b[0m\n\u001b[0;32m    364\u001b[0m     \u001b[1;32mdef\u001b[0m \u001b[0mcall_and_shelve\u001b[0m\u001b[1;33m(\u001b[0m\u001b[0mself\u001b[0m\u001b[1;33m,\u001b[0m \u001b[1;33m*\u001b[0m\u001b[0margs\u001b[0m\u001b[1;33m,\u001b[0m \u001b[1;33m**\u001b[0m\u001b[0mkwargs\u001b[0m\u001b[1;33m)\u001b[0m\u001b[1;33m:\u001b[0m\u001b[1;33m\u001b[0m\u001b[0m\n",
      "\u001b[1;32m~\\Anaconda3\\lib\\site-packages\\hdbscan\\hdbscan_.py\u001b[0m in \u001b[0;36m_hdbscan_boruvka_kdtree\u001b[1;34m(X, min_samples, alpha, metric, p, leaf_size, approx_min_span_tree, gen_min_span_tree, core_dist_n_jobs, **kwargs)\u001b[0m\n\u001b[0;32m    286\u001b[0m                                  \u001b[0mapprox_min_span_tree\u001b[0m\u001b[1;33m=\u001b[0m\u001b[0mapprox_min_span_tree\u001b[0m\u001b[1;33m,\u001b[0m\u001b[1;33m\u001b[0m\u001b[0m\n\u001b[0;32m    287\u001b[0m                                  n_jobs=core_dist_n_jobs, **kwargs)\n\u001b[1;32m--> 288\u001b[1;33m     \u001b[0mmin_spanning_tree\u001b[0m \u001b[1;33m=\u001b[0m \u001b[0malg\u001b[0m\u001b[1;33m.\u001b[0m\u001b[0mspanning_tree\u001b[0m\u001b[1;33m(\u001b[0m\u001b[1;33m)\u001b[0m\u001b[1;33m\u001b[0m\u001b[0m\n\u001b[0m\u001b[0;32m    289\u001b[0m     \u001b[1;31m# Sort edges of the min_spanning_tree by weight\u001b[0m\u001b[1;33m\u001b[0m\u001b[1;33m\u001b[0m\u001b[0m\n\u001b[0;32m    290\u001b[0m     \u001b[0mrow_order\u001b[0m \u001b[1;33m=\u001b[0m \u001b[0mnp\u001b[0m\u001b[1;33m.\u001b[0m\u001b[0margsort\u001b[0m\u001b[1;33m(\u001b[0m\u001b[0mmin_spanning_tree\u001b[0m\u001b[1;33m.\u001b[0m\u001b[0mT\u001b[0m\u001b[1;33m[\u001b[0m\u001b[1;36m2\u001b[0m\u001b[1;33m]\u001b[0m\u001b[1;33m)\u001b[0m\u001b[1;33m\u001b[0m\u001b[0m\n",
      "\u001b[1;31mKeyboardInterrupt\u001b[0m: "
     ]
    }
   ],
   "source": [
    "hdb_scan = hd.HDBSCAN(min_cluster_size=2, min_samples=10, allow_single_cluster=True,alpha=0.03)\n",
    "for z_index, z_value in enumerate(z_values):\n",
    "    if z_index < 10:\n",
    "        print('z: {}'.format(z_index))\n",
    "        if z_index < len(z_values) - 1:\n",
    "            z_frame = dataframe[(dataframe['z']>=z_values[z_index]) & (dataframe['z'] < z_values[z_index+1])]\n",
    "            for x_index, x_value in enumerate(x_values):\n",
    "                if x_index < len(x_values) - 1:\n",
    "                    x_frame = z_frame[(z_frame['x']>=x_values[x_index]) & (z_frame['x'] < x_values[x_index+1])]\n",
    "                    for y_index, y_value in enumerate(y_values):\n",
    "                        if y_index < len(y_values) - 1:\n",
    "                            y_frame = x_frame[(x_frame['y']>=y_values[y_index]) & (x_frame['y'] < y_values[y_index+1])]\n",
    "                            if y_frame.shape[0]!=0:\n",
    "                                with open(\"wyniki\\hdb_scan_eps_{}_standard.csv\".format(hdb_scan.alpha),'a') as file:\n",
    "                                    predicted = hdb_scan.fit_predict(y_frame.values).reshape(len(y_frame.values), 1)\n",
    "                                    data_to_export = np.concatenate([y_frame.values, predicted], axis=1).reshape(len(y_frame), 4)\n",
    "                                    pd.DataFrame.to_csv(pd.DataFrame(data_to_export), path_or_buf=file, header=False)                      \n",
    "    else:\n",
    "        pass"
   ]
  },
  {
   "cell_type": "code",
   "execution_count": null,
   "metadata": {},
   "outputs": [],
   "source": []
  }
 ],
 "metadata": {
  "kernelspec": {
   "display_name": "Python 3",
   "language": "python",
   "name": "python3"
  },
  "language_info": {
   "codemirror_mode": {
    "name": "ipython",
    "version": 3
   },
   "file_extension": ".py",
   "mimetype": "text/x-python",
   "name": "python",
   "nbconvert_exporter": "python",
   "pygments_lexer": "ipython3",
   "version": "3.6.3"
  }
 },
 "nbformat": 4,
 "nbformat_minor": 2
}
